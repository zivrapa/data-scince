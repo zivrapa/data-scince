{
 "cells": [
  {
   "cell_type": "raw",
   "id": "5f40d1cc",
   "metadata": {},
   "source": [
    "\n",
    "age = 28 \n",
    "sex = 0 \n",
    "bmi = 26.2 \n",
    "num_of_children = 3 \n",
    "smoker = 0\n",
    "\n",
    "# Add insurance estimate formula below\n",
    "insurance_cost = 250*age -128*sex + 370*bmi + 425*num_of_children + 24000*smoker -12500\n",
    "print(\"This person's insurance cost is \" + str(insurance_cost) +\" dollars.\")\n",
    "# Age Factor\n",
    "age += 4\n",
    "new_insurance_cost = 250*age -128*sex + 370*bmi + 425*num_of_children + 24000*smoker -12500\n",
    "print(new_insurance_cost)\n",
    "change_in_insurance_cost = new_insurance_cost - insurance_cost\n",
    "print(\"The change in cost of insurance after increasing the age by 4 years is \" + str(change_in_insurance_cost) + \" dollars.\")\n",
    "# BMI Factor\n",
    "age  = 28\n",
    "bmi += 3.1\n",
    "new_insurance_cost = 250*age -128*sex + 370*bmi + 425*num_of_children + 24000*smoker -12500\n",
    "change_in_insurance_cost = new_insurance_cost - insurance_cost \n",
    "print(\"The change in cost of insurance after increasing the age by 4 years is \" + str(change_in_insurance_cost) + \" dollars.\")\n",
    "# Male vs. Female Factor\n",
    "bmi = 26.2\n",
    "sex = 1\n",
    "new_insurance_cost = 250*age -128*sex + 370*bmi + 425*num_of_children + 24000*smoker -12500\n",
    "change_in_insurance_cost = new_insurance_cost - insurance_cost\n",
    "print(\"The change in cost of insurance after increasing the age by 4 years is \" + str(change_in_insurance_cost) + \" dollars.\")\n"
   ]
  },
  {
   "cell_type": "code",
   "execution_count": null,
   "id": "33516990",
   "metadata": {},
   "outputs": [],
   "source": []
  }
 ],
 "metadata": {
  "kernelspec": {
   "display_name": "Python 3 (ipykernel)",
   "language": "python",
   "name": "python3"
  },
  "language_info": {
   "codemirror_mode": {
    "name": "ipython",
    "version": 3
   },
   "file_extension": ".py",
   "mimetype": "text/x-python",
   "name": "python",
   "nbconvert_exporter": "python",
   "pygments_lexer": "ipython3",
   "version": "3.8.10"
  }
 },
 "nbformat": 4,
 "nbformat_minor": 5
}
